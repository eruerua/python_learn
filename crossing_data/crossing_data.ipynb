{
 "cells": [
  {
   "cell_type": "code",
   "execution_count": 7,
   "metadata": {
    "collapsed": true,
    "pycharm": {
     "is_executing": false
    }
   },
   "outputs": [],
   "source": [
    "import pandas as pd\n",
    "from pandas import Series\n",
    "import numpy as np\n",
    "f = open('./task_1_zhaopin_data.csv',encoding='UTF-8') \n",
    "data = pd.read_csv(f)\n",
    "f.close()"
   ]
  },
  {
   "cell_type": "code",
   "execution_count": 9,
   "outputs": [
    {
     "data": {
      "text/plain": "                  工作名       薪资 学历要求  工作经验 是否全职                  公司名   公司类型  \\\n527   高级Java开发工程师（03）  15K-20K   本科  3-5年   全职        上海复深蓝软件股份有限公司   上市公司   \n528  Change Developer     薪资面议   本科  1-3年   全职  瑞银企业管理(中国)有限公司无锡分公司   外商独资   \n529             测试工程师  10K-15K   本科  3-5年   全职          深圳市睿服科技有限公司  股份制企业   \n530        大数据审计岗（上海）  20K-40K   本科  3-5年   全职           永辉超市股份有限公司     民营   \n531          高级sas程序员  12K-15K   本科  3-5年   全职           上海盛迪医药有限公司     民营   \n\n           公司规模                                               任职要求  其他备注  \n527  1000-9999人    基础编程  1、精通java和sql编程开发，熟悉java常用开发框架和类库  2、深刻...   NaN  \n528    10000人以上  Your role We are looking for a developer to wr...   NaN  \n529    500-999人    岗位职责：   1.参与项目产品的质量保证工作 ；  2.完成项目测试，包括：功能业务测...   NaN  \n530    10000人以上    1、与大数据部合作建立大数据审计平台  2、协助合伙人通过风险评估草拟年度大数据审计发展...   NaN  \n531    100-499人  JobPurpose:1.?????为临床试验项目提供各种类型的数据处理和分析方面的服务，包...   NaN  ",
      "text/html": "<div>\n<style scoped>\n    .dataframe tbody tr th:only-of-type {\n        vertical-align: middle;\n    }\n\n    .dataframe tbody tr th {\n        vertical-align: top;\n    }\n\n    .dataframe thead th {\n        text-align: right;\n    }\n</style>\n<table border=\"1\" class=\"dataframe\">\n  <thead>\n    <tr style=\"text-align: right;\">\n      <th></th>\n      <th>工作名</th>\n      <th>薪资</th>\n      <th>学历要求</th>\n      <th>工作经验</th>\n      <th>是否全职</th>\n      <th>公司名</th>\n      <th>公司类型</th>\n      <th>公司规模</th>\n      <th>任职要求</th>\n      <th>其他备注</th>\n    </tr>\n  </thead>\n  <tbody>\n    <tr>\n      <th>527</th>\n      <td>高级Java开发工程师（03）</td>\n      <td>15K-20K</td>\n      <td>本科</td>\n      <td>3-5年</td>\n      <td>全职</td>\n      <td>上海复深蓝软件股份有限公司</td>\n      <td>上市公司</td>\n      <td>1000-9999人</td>\n      <td>基础编程  1、精通java和sql编程开发，熟悉java常用开发框架和类库  2、深刻...</td>\n      <td>NaN</td>\n    </tr>\n    <tr>\n      <th>528</th>\n      <td>Change Developer</td>\n      <td>薪资面议</td>\n      <td>本科</td>\n      <td>1-3年</td>\n      <td>全职</td>\n      <td>瑞银企业管理(中国)有限公司无锡分公司</td>\n      <td>外商独资</td>\n      <td>10000人以上</td>\n      <td>Your role We are looking for a developer to wr...</td>\n      <td>NaN</td>\n    </tr>\n    <tr>\n      <th>529</th>\n      <td>测试工程师</td>\n      <td>10K-15K</td>\n      <td>本科</td>\n      <td>3-5年</td>\n      <td>全职</td>\n      <td>深圳市睿服科技有限公司</td>\n      <td>股份制企业</td>\n      <td>500-999人</td>\n      <td>岗位职责：   1.参与项目产品的质量保证工作 ；  2.完成项目测试，包括：功能业务测...</td>\n      <td>NaN</td>\n    </tr>\n    <tr>\n      <th>530</th>\n      <td>大数据审计岗（上海）</td>\n      <td>20K-40K</td>\n      <td>本科</td>\n      <td>3-5年</td>\n      <td>全职</td>\n      <td>永辉超市股份有限公司</td>\n      <td>民营</td>\n      <td>10000人以上</td>\n      <td>1、与大数据部合作建立大数据审计平台  2、协助合伙人通过风险评估草拟年度大数据审计发展...</td>\n      <td>NaN</td>\n    </tr>\n    <tr>\n      <th>531</th>\n      <td>高级sas程序员</td>\n      <td>12K-15K</td>\n      <td>本科</td>\n      <td>3-5年</td>\n      <td>全职</td>\n      <td>上海盛迪医药有限公司</td>\n      <td>民营</td>\n      <td>100-499人</td>\n      <td>JobPurpose:1.?????为临床试验项目提供各种类型的数据处理和分析方面的服务，包...</td>\n      <td>NaN</td>\n    </tr>\n  </tbody>\n</table>\n</div>"
     },
     "metadata": {},
     "output_type": "execute_result",
     "execution_count": 9
    }
   ],
   "source": [
    "data.head()\n",
    "\n"
   ],
   "metadata": {
    "collapsed": false,
    "pycharm": {
     "name": "#%%\n",
     "is_executing": false
    }
   }
  },
  {
   "cell_type": "code",
   "execution_count": null,
   "outputs": [],
   "source": [
    "data.tail()"
   ],
   "metadata": {
    "collapsed": false,
    "pycharm": {
     "name": "#%%\n"
    }
   }
  },
  {
   "cell_type": "code",
   "execution_count": 10,
   "outputs": [
    {
     "data": {
      "text/plain": "           工作名       薪资 学历要求  工作经验 是否全职           公司名 公司类型    公司规模  \\\n0  python开发工程师   8K-10K   大专  1-3年   全职    上海蜗兴科技有限公司   民营  20-99人   \n1  Python开发工程师  15K-30K   本科  3-5年   全职  苏州复鹄电子科技有限公司   民营   20人以下   \n2  python开发工程师  17K-30K   本科  3-5年   全职  上海心莲信息科技有限公司   民营      不限   \n\n                                                任职要求  其他备注  \n0  任职要求：?1、计算机相关专业大专及以上学历；2、有Python开发经验，熟悉Django、...   NaN  \n1  职位描述：复鹄电子科技有限公司现正集中开发对标美国DAPAR计划，具有革命颠覆性的模拟电路全...   NaN  \n2    1、3年以上Python开发经验，有独立设计大规模数据处理和分析系统的经验和能力；  2...   NaN  ",
      "text/html": "<div>\n<style scoped>\n    .dataframe tbody tr th:only-of-type {\n        vertical-align: middle;\n    }\n\n    .dataframe tbody tr th {\n        vertical-align: top;\n    }\n\n    .dataframe thead th {\n        text-align: right;\n    }\n</style>\n<table border=\"1\" class=\"dataframe\">\n  <thead>\n    <tr style=\"text-align: right;\">\n      <th></th>\n      <th>工作名</th>\n      <th>薪资</th>\n      <th>学历要求</th>\n      <th>工作经验</th>\n      <th>是否全职</th>\n      <th>公司名</th>\n      <th>公司类型</th>\n      <th>公司规模</th>\n      <th>任职要求</th>\n      <th>其他备注</th>\n    </tr>\n  </thead>\n  <tbody>\n    <tr>\n      <th>0</th>\n      <td>python开发工程师</td>\n      <td>8K-10K</td>\n      <td>大专</td>\n      <td>1-3年</td>\n      <td>全职</td>\n      <td>上海蜗兴科技有限公司</td>\n      <td>民营</td>\n      <td>20-99人</td>\n      <td>任职要求：?1、计算机相关专业大专及以上学历；2、有Python开发经验，熟悉Django、...</td>\n      <td>NaN</td>\n    </tr>\n    <tr>\n      <th>1</th>\n      <td>Python开发工程师</td>\n      <td>15K-30K</td>\n      <td>本科</td>\n      <td>3-5年</td>\n      <td>全职</td>\n      <td>苏州复鹄电子科技有限公司</td>\n      <td>民营</td>\n      <td>20人以下</td>\n      <td>职位描述：复鹄电子科技有限公司现正集中开发对标美国DAPAR计划，具有革命颠覆性的模拟电路全...</td>\n      <td>NaN</td>\n    </tr>\n    <tr>\n      <th>2</th>\n      <td>python开发工程师</td>\n      <td>17K-30K</td>\n      <td>本科</td>\n      <td>3-5年</td>\n      <td>全职</td>\n      <td>上海心莲信息科技有限公司</td>\n      <td>民营</td>\n      <td>不限</td>\n      <td>1、3年以上Python开发经验，有独立设计大规模数据处理和分析系统的经验和能力；  2...</td>\n      <td>NaN</td>\n    </tr>\n  </tbody>\n</table>\n</div>"
     },
     "metadata": {},
     "output_type": "execute_result",
     "execution_count": 10
    }
   ],
   "source": [
    "data.head(3)"
   ],
   "metadata": {
    "collapsed": false,
    "pycharm": {
     "name": "#%%\n",
     "is_executing": false
    }
   }
  },
  {
   "cell_type": "code",
   "execution_count": 11,
   "outputs": [
    {
     "data": {
      "text/plain": "            工作名       薪资 学历要求  工作经验 是否全职          公司名   公司类型      公司规模  \\\n529       测试工程师  10K-15K   本科  3-5年   全职  深圳市睿服科技有限公司  股份制企业  500-999人   \n530  大数据审计岗（上海）  20K-40K   本科  3-5年   全职   永辉超市股份有限公司     民营  10000人以上   \n531    高级sas程序员  12K-15K   本科  3-5年   全职   上海盛迪医药有限公司     民营  100-499人   \n\n                                                  任职要求  其他备注  \n529    岗位职责：   1.参与项目产品的质量保证工作 ；  2.完成项目测试，包括：功能业务测...   NaN  \n530    1、与大数据部合作建立大数据审计平台  2、协助合伙人通过风险评估草拟年度大数据审计发展...   NaN  \n531  JobPurpose:1.?????为临床试验项目提供各种类型的数据处理和分析方面的服务，包...   NaN  ",
      "text/html": "<div>\n<style scoped>\n    .dataframe tbody tr th:only-of-type {\n        vertical-align: middle;\n    }\n\n    .dataframe tbody tr th {\n        vertical-align: top;\n    }\n\n    .dataframe thead th {\n        text-align: right;\n    }\n</style>\n<table border=\"1\" class=\"dataframe\">\n  <thead>\n    <tr style=\"text-align: right;\">\n      <th></th>\n      <th>工作名</th>\n      <th>薪资</th>\n      <th>学历要求</th>\n      <th>工作经验</th>\n      <th>是否全职</th>\n      <th>公司名</th>\n      <th>公司类型</th>\n      <th>公司规模</th>\n      <th>任职要求</th>\n      <th>其他备注</th>\n    </tr>\n  </thead>\n  <tbody>\n    <tr>\n      <th>529</th>\n      <td>测试工程师</td>\n      <td>10K-15K</td>\n      <td>本科</td>\n      <td>3-5年</td>\n      <td>全职</td>\n      <td>深圳市睿服科技有限公司</td>\n      <td>股份制企业</td>\n      <td>500-999人</td>\n      <td>岗位职责：   1.参与项目产品的质量保证工作 ；  2.完成项目测试，包括：功能业务测...</td>\n      <td>NaN</td>\n    </tr>\n    <tr>\n      <th>530</th>\n      <td>大数据审计岗（上海）</td>\n      <td>20K-40K</td>\n      <td>本科</td>\n      <td>3-5年</td>\n      <td>全职</td>\n      <td>永辉超市股份有限公司</td>\n      <td>民营</td>\n      <td>10000人以上</td>\n      <td>1、与大数据部合作建立大数据审计平台  2、协助合伙人通过风险评估草拟年度大数据审计发展...</td>\n      <td>NaN</td>\n    </tr>\n    <tr>\n      <th>531</th>\n      <td>高级sas程序员</td>\n      <td>12K-15K</td>\n      <td>本科</td>\n      <td>3-5年</td>\n      <td>全职</td>\n      <td>上海盛迪医药有限公司</td>\n      <td>民营</td>\n      <td>100-499人</td>\n      <td>JobPurpose:1.?????为临床试验项目提供各种类型的数据处理和分析方面的服务，包...</td>\n      <td>NaN</td>\n    </tr>\n  </tbody>\n</table>\n</div>"
     },
     "metadata": {},
     "output_type": "execute_result",
     "execution_count": 11
    }
   ],
   "source": [
    "data.tail(3)"
   ],
   "metadata": {
    "collapsed": false,
    "pycharm": {
     "name": "#%%\n",
     "is_executing": false
    }
   }
  },
  {
   "cell_type": "code",
   "execution_count": 13,
   "outputs": [
    {
     "data": {
      "text/plain": "0        大专\n1        本科\n2        本科\n3        本科\n4        大专\n5        大专\n6        本科\n7        本科\n8        本科\n9        大专\n10       本科\n11       大专\n12       本科\n13       本科\n14       本科\n15       本科\n16       本科\n17       本科\n18       本科\n19       本科\n20       本科\n21       本科\n22       本科\n23       大专\n24       本科\n25       本科\n26       本科\n27       本科\n28       本科\n29       本科\n       ... \n502      本科\n503      本科\n504      本科\n505      大专\n506      本科\n507      大专\n508      本科\n509      本科\n510      大专\n511      本科\n512      本科\n513    学历不限\n514      本科\n515      大专\n516      本科\n517      本科\n518      大专\n519      大专\n520      本科\n521      本科\n522      本科\n523      本科\n524      大专\n525      本科\n526      本科\n527      本科\n528      本科\n529      本科\n530      本科\n531      本科\nName: 学历要求, Length: 532, dtype: object"
     },
     "metadata": {},
     "output_type": "execute_result",
     "execution_count": 13
    }
   ],
   "source": [
    "data['学历要求']"
   ],
   "metadata": {
    "collapsed": false,
    "pycharm": {
     "name": "#%%\n",
     "is_executing": false
    }
   }
  },
  {
   "cell_type": "code",
   "execution_count": 14,
   "outputs": [
    {
     "data": {
      "text/plain": "0       1-3年\n1       3-5年\n2       3-5年\n3       1-3年\n4       3-5年\n5       1年以下\n6         不限\n7       1-3年\n8       3-5年\n9         不限\n10      3-5年\n11        不限\n12      3-5年\n13      3-5年\n14      3-5年\n15      3-5年\n16     5-10年\n17        不限\n18      3-5年\n19      3-5年\n20      1-3年\n21     5-10年\n22      3-5年\n23      3-5年\n24      1-3年\n25      3-5年\n26      1-3年\n27      1-3年\n28      1-3年\n29      3-5年\n       ...  \n502     1-3年\n503     1-3年\n504     1-3年\n505       不限\n506       不限\n507     3-5年\n508     1-3年\n509     3-5年\n510     3-5年\n511     3-5年\n512     1-3年\n513    5-10年\n514      无经验\n515     3-5年\n516     1-3年\n517     1-3年\n518    10年以上\n519    10年以上\n520     3-5年\n521     3-5年\n522      无经验\n523     1-3年\n524     3-5年\n525       不限\n526       不限\n527     3-5年\n528     1-3年\n529     3-5年\n530     3-5年\n531     3-5年\nName: 工作经验, Length: 532, dtype: object"
     },
     "metadata": {},
     "output_type": "execute_result",
     "execution_count": 14
    }
   ],
   "source": [
    "data['工作经验']"
   ],
   "metadata": {
    "collapsed": false,
    "pycharm": {
     "name": "#%%\n",
     "is_executing": false
    }
   }
  },
  {
   "cell_type": "code",
   "execution_count": 15,
   "outputs": [
    {
     "data": {
      "text/plain": "0      全职\n1      全职\n2      全职\n3      全职\n4      全职\n5      全职\n6      全职\n7      全职\n8      全职\n9      全职\n10     全职\n11     全职\n12     全职\n13     全职\n14     全职\n15     全职\n16     全职\n17     全职\n18     全职\n19     全职\n20     全职\n21     全职\n22     全职\n23     全职\n24     全职\n25     全职\n26     全职\n27     全职\n28     全职\n29     全职\n       ..\n502    全职\n503    全职\n504    全职\n505    全职\n506    全职\n507    全职\n508    全职\n509    全职\n510    全职\n511    全职\n512    全职\n513    全职\n514    全职\n515    全职\n516    全职\n517    全职\n518    全职\n519    全职\n520    全职\n521    全职\n522    实习\n523    全职\n524    全职\n525    全职\n526    全职\n527    全职\n528    全职\n529    全职\n530    全职\n531    全职\nName: 是否全职, Length: 532, dtype: object"
     },
     "metadata": {},
     "output_type": "execute_result",
     "execution_count": 15
    }
   ],
   "source": [
    "data['是否全职']"
   ],
   "metadata": {
    "collapsed": false,
    "pycharm": {
     "name": "#%%\n",
     "is_executing": false
    }
   }
  },
  {
   "cell_type": "code",
   "execution_count": 18,
   "outputs": [],
   "source": [
    "df2=data.set_index('公司名')"
   ],
   "metadata": {
    "collapsed": false,
    "pycharm": {
     "name": "#%%\n",
     "is_executing": false
    }
   }
  },
  {
   "cell_type": "code",
   "execution_count": 19,
   "outputs": [],
   "source": [
    "df3=df2.drop(['其他备注'],axis=1)"
   ],
   "metadata": {
    "collapsed": false,
    "pycharm": {
     "name": "#%%\n",
     "is_executing": false
    }
   }
  },
  {
   "cell_type": "code",
   "execution_count": 20,
   "outputs": [],
   "source": [
    "df4=df3.drop(['上海蜗兴科技有限公司'])"
   ],
   "metadata": {
    "collapsed": false,
    "pycharm": {
     "name": "#%%\n",
     "is_executing": false
    }
   }
  },
  {
   "cell_type": "code",
   "execution_count": 23,
   "outputs": [],
   "source": [
    "df4.to_csv('task_1_zhaopin_data_update.csv',encoding='UTF-8')\n"
   ],
   "metadata": {
    "collapsed": false,
    "pycharm": {
     "name": "#%%\n",
     "is_executing": false
    }
   }
  }
 ],
 "metadata": {
  "kernelspec": {
   "display_name": "Python 3",
   "language": "python",
   "name": "python3"
  },
  "language_info": {
   "codemirror_mode": {
    "name": "ipython",
    "version": 2
   },
   "file_extension": ".py",
   "mimetype": "text/x-python",
   "name": "python",
   "nbconvert_exporter": "python",
   "pygments_lexer": "ipython2",
   "version": "2.7.6"
  },
  "pycharm": {
   "stem_cell": {
    "cell_type": "raw",
    "source": [],
    "metadata": {
     "collapsed": false
    }
   }
  }
 },
 "nbformat": 4,
 "nbformat_minor": 0
}