{
 "cells": [
  {
   "cell_type": "code",
   "execution_count": 2,
   "metadata": {
    "collapsed": true,
    "pycharm": {
     "is_executing": false
    }
   },
   "outputs": [],
   "source": [
    "import pandas as pd\n",
    "f = open('task_3.1_zhihu_timeline_answer.csv',encoding='UTF-8') \n",
    "zhihu_data_answer = pd.read_csv(f)\n",
    "f.close()"
   ]
  },
  {
   "cell_type": "code",
   "execution_count": 3,
   "outputs": [
    {
     "data": {
      "text/plain": "       类型                 id   标签       回答id  回答点赞数  回答评论数  回答感谢数    回答观看数  \\\n0  answer  12_1574824946.178  二次元  734170020   4859    656    564  1120728   \n1  answer   13_1574824946.45   生活  629465796  46827   1594  12491  4517999   \n2  answer  14_1574824946.791   高考  344182099  25739   2465   5072  1575771   \n\n       回答创建时间       问题id                  问题题目  问题回答数  问题关注数  评论数        创建时间  \n0  1561974232   62972819  你们见过最好看的 coser 长什么样？   1607  30094   30  1501051575  \n1  1553236233   63894266          生活中有哪些残忍的真相？   2505  57217   50  1502701040  \n2  1521306846  266837866  你们是怎么考上 985 的，每科多少分？   3527  28092   64  1518015871  ",
      "text/html": "<div>\n<style scoped>\n    .dataframe tbody tr th:only-of-type {\n        vertical-align: middle;\n    }\n\n    .dataframe tbody tr th {\n        vertical-align: top;\n    }\n\n    .dataframe thead th {\n        text-align: right;\n    }\n</style>\n<table border=\"1\" class=\"dataframe\">\n  <thead>\n    <tr style=\"text-align: right;\">\n      <th></th>\n      <th>类型</th>\n      <th>id</th>\n      <th>标签</th>\n      <th>回答id</th>\n      <th>回答点赞数</th>\n      <th>回答评论数</th>\n      <th>回答感谢数</th>\n      <th>回答观看数</th>\n      <th>回答创建时间</th>\n      <th>问题id</th>\n      <th>问题题目</th>\n      <th>问题回答数</th>\n      <th>问题关注数</th>\n      <th>评论数</th>\n      <th>创建时间</th>\n    </tr>\n  </thead>\n  <tbody>\n    <tr>\n      <th>0</th>\n      <td>answer</td>\n      <td>12_1574824946.178</td>\n      <td>二次元</td>\n      <td>734170020</td>\n      <td>4859</td>\n      <td>656</td>\n      <td>564</td>\n      <td>1120728</td>\n      <td>1561974232</td>\n      <td>62972819</td>\n      <td>你们见过最好看的 coser 长什么样？</td>\n      <td>1607</td>\n      <td>30094</td>\n      <td>30</td>\n      <td>1501051575</td>\n    </tr>\n    <tr>\n      <th>1</th>\n      <td>answer</td>\n      <td>13_1574824946.45</td>\n      <td>生活</td>\n      <td>629465796</td>\n      <td>46827</td>\n      <td>1594</td>\n      <td>12491</td>\n      <td>4517999</td>\n      <td>1553236233</td>\n      <td>63894266</td>\n      <td>生活中有哪些残忍的真相？</td>\n      <td>2505</td>\n      <td>57217</td>\n      <td>50</td>\n      <td>1502701040</td>\n    </tr>\n    <tr>\n      <th>2</th>\n      <td>answer</td>\n      <td>14_1574824946.791</td>\n      <td>高考</td>\n      <td>344182099</td>\n      <td>25739</td>\n      <td>2465</td>\n      <td>5072</td>\n      <td>1575771</td>\n      <td>1521306846</td>\n      <td>266837866</td>\n      <td>你们是怎么考上 985 的，每科多少分？</td>\n      <td>3527</td>\n      <td>28092</td>\n      <td>64</td>\n      <td>1518015871</td>\n    </tr>\n  </tbody>\n</table>\n</div>"
     },
     "metadata": {},
     "output_type": "execute_result",
     "execution_count": 3
    }
   ],
   "source": [
    "zhihu_data_answer.head(3)"
   ],
   "metadata": {
    "collapsed": false,
    "pycharm": {
     "name": "#%%\n",
     "is_executing": false
    }
   }
  },
  {
   "cell_type": "code",
   "execution_count": 4,
   "outputs": [],
   "source": [
    "answer_like=zhihu_data_answer['回答点赞数'].tolist()\n",
    "answer_thanks=zhihu_data_answer['回答感谢数'].tolist()"
   ],
   "metadata": {
    "collapsed": false,
    "pycharm": {
     "name": "#%%\n",
     "is_executing": false
    }
   }
  },
  {
   "cell_type": "code",
   "execution_count": 13,
   "outputs": [
    {
     "data": {
      "text/plain": "<Figure size 432x288 with 1 Axes>",
      "image/png": "[encoded data removed]"
     },
     "metadata": {
      "needs_background": "light"
     },
     "output_type": "display_data"
    }
   ],
   "source": [
    "import matplotlib.pyplot as plt\n",
    "plt.rcParams['font.sans-serif']=['SimHei']\n",
    "plt.rcParams['axes.unicode_minus']=False#显示中文\n",
    "plt.xlabel('回答点赞数')\n",
    "plt.ylabel('回答感谢数')\n",
    "plt.scatter(answer_like,answer_thanks,c='r',marker='.')\n",
    "plt.show()"
   ],
   "metadata": {
    "collapsed": false,
    "pycharm": {
     "name": "#%%\n",
     "is_executing": false
    }
   }
  },
  {
   "cell_type": "code",
   "execution_count": 6,
   "outputs": [],
   "source": [
    "question_answer=zhihu_data_answer['问题回答数'].tolist()\n",
    "question_attention=zhihu_data_answer['问题关注数'].tolist()"
   ],
   "metadata": {
    "collapsed": false,
    "pycharm": {
     "name": "#%%\n",
     "is_executing": false
    }
   }
  },
  {
   "cell_type": "code",
   "execution_count": 7,
   "outputs": [
    {
     "data": {
      "text/plain": "<Figure size 432x288 with 1 Axes>",
      "image/png": "[encoded data removed]"
     },
     "metadata": {
      "needs_background": "light"
     },
     "output_type": "display_data"
    }
   ],
   "source": [
    "plt.xlabel('问题回答数')\n",
    "plt.ylabel('问题关注数')\n",
    "plt.scatter(question_answer,question_attention,c='r',marker='.')\n",
    "plt.show()\n",
    "\n"
   ],
   "metadata": {
    "collapsed": false,
    "pycharm": {
     "name": "#%%\n",
     "is_executing": false
    }
   }
  },
  {
   "cell_type": "code",
   "execution_count": 8,
   "outputs": [],
   "source": [
    "f = open('task_3.2_zhihu_timeline_article.csv',encoding='UTF-8') \n",
    "zhihu_data_article = pd.read_csv(f)\n",
    "f.close()"
   ],
   "metadata": {
    "collapsed": false,
    "pycharm": {
     "name": "#%%\n",
     "is_executing": false
    }
   }
  },
  {
   "cell_type": "code",
   "execution_count": 9,
   "outputs": [
    {
     "data": {
      "text/plain": "        类型               总 id  关键词     文章 id  文章点赞数  文章评论数  \\\n0  article  14_1574825136.990  李小璐  90620737    774    267   \n1  article  14_1574825137.717  主持人  90576308  25365   1157   \n2  article  13_1574825137.707   刘涛  92353372    339     65   \n\n                  文章题目（文章没有感谢数）    文章观看数      文章创建时间  \n0  “李小璐出轨视频曝光7天后，我识破了令人胆寒的爱情真相”   245037  1573089756  \n1     谢娜与董卿同台被“碾压”: 文化断层到底有多可怕?  1072054  1573047546  \n2                       刘涛，你够了！   215292  1574051699  ",
      "text/html": "<div>\n<style scoped>\n    .dataframe tbody tr th:only-of-type {\n        vertical-align: middle;\n    }\n\n    .dataframe tbody tr th {\n        vertical-align: top;\n    }\n\n    .dataframe thead th {\n        text-align: right;\n    }\n</style>\n<table border=\"1\" class=\"dataframe\">\n  <thead>\n    <tr style=\"text-align: right;\">\n      <th></th>\n      <th>类型</th>\n      <th>总 id</th>\n      <th>关键词</th>\n      <th>文章 id</th>\n      <th>文章点赞数</th>\n      <th>文章评论数</th>\n      <th>文章题目（文章没有感谢数）</th>\n      <th>文章观看数</th>\n      <th>文章创建时间</th>\n    </tr>\n  </thead>\n  <tbody>\n    <tr>\n      <th>0</th>\n      <td>article</td>\n      <td>14_1574825136.990</td>\n      <td>李小璐</td>\n      <td>90620737</td>\n      <td>774</td>\n      <td>267</td>\n      <td>“李小璐出轨视频曝光7天后，我识破了令人胆寒的爱情真相”</td>\n      <td>245037</td>\n      <td>1573089756</td>\n    </tr>\n    <tr>\n      <th>1</th>\n      <td>article</td>\n      <td>14_1574825137.717</td>\n      <td>主持人</td>\n      <td>90576308</td>\n      <td>25365</td>\n      <td>1157</td>\n      <td>谢娜与董卿同台被“碾压”: 文化断层到底有多可怕?</td>\n      <td>1072054</td>\n      <td>1573047546</td>\n    </tr>\n    <tr>\n      <th>2</th>\n      <td>article</td>\n      <td>13_1574825137.707</td>\n      <td>刘涛</td>\n      <td>92353372</td>\n      <td>339</td>\n      <td>65</td>\n      <td>刘涛，你够了！</td>\n      <td>215292</td>\n      <td>1574051699</td>\n    </tr>\n  </tbody>\n</table>\n</div>"
     },
     "metadata": {},
     "output_type": "execute_result",
     "execution_count": 9
    }
   ],
   "source": [
    "zhihu_data_article.head(3)"
   ],
   "metadata": {
    "collapsed": false,
    "pycharm": {
     "name": "#%%\n",
     "is_executing": false
    }
   }
  },
  {
   "cell_type": "code",
   "execution_count": 10,
   "outputs": [],
   "source": [
    "article_like=zhihu_data_article['文章点赞数'].tolist()\n",
    "article_comment=zhihu_data_article['文章评论数'].tolist()\n"
   ],
   "metadata": {
    "collapsed": false,
    "pycharm": {
     "name": "#%%\n",
     "is_executing": false
    }
   }
  },
  {
   "cell_type": "code",
   "execution_count": 11,
   "outputs": [
    {
     "data": {
      "text/plain": "<Figure size 432x288 with 1 Axes>",
      "image/png": "[encoded data removed]"
     },
     "metadata": {
      "needs_background": "light"
     },
     "output_type": "display_data"
    }
   ],
   "source": [
    "plt.xlabel('文章点赞数')\n",
    "plt.ylabel('文章评论数')\n",
    "plt.scatter(article_like,article_comment,c='r',marker='.')\n",
    "plt.show()"
   ],
   "metadata": {
    "collapsed": false,
    "pycharm": {
     "name": "#%%\n",
     "is_executing": false
    }
   }
  },
  {
   "cell_type": "code",
   "execution_count": 12,
   "outputs": [
    {
     "data": {
      "text/plain": "<Figure size 432x288 with 1 Axes>",
      "image/png": "[encoded data removed]"
     },
     "metadata": {
      "needs_background": "light"
     },
     "output_type": "display_data"
    }
   ],
   "source": [
    "article_like_less_than_1000=[x for x in article_like if x < 1000]\n",
    "plt.boxplot(article_like_less_than_1000)\n",
    "plt.show()"
   ],
   "metadata": {
    "collapsed": false,
    "pycharm": {
     "name": "#%%\n",
     "is_executing": false
    }
   }
  }
 ],
 "metadata": {
  "kernelspec": {
   "display_name": "Python 3",
   "language": "python",
   "name": "python3"
  },
  "language_info": {
   "codemirror_mode": {
    "name": "ipython",
    "version": 2
   },
   "file_extension": ".py",
   "mimetype": "text/x-python",
   "name": "python",
   "nbconvert_exporter": "python",
   "pygments_lexer": "ipython2",
   "version": "2.7.6"
  },
  "pycharm": {
   "stem_cell": {
    "cell_type": "raw",
    "source": [],
    "metadata": {
     "collapsed": false
    }
   }
  }
 },
 "nbformat": 4,
 "nbformat_minor": 0
}