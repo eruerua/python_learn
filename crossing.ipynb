{
 "cells": [
  {
   "cell_type": "code",
   "execution_count": 1,
   "metadata": {},
   "outputs": [
    {
     "data": {
      "text/plain": [
       "False"
      ]
     },
     "execution_count": 1,
     "metadata": {},
     "output_type": "execute_result"
    }
   ],
   "source": [
    "x='False'\n",
    "not x"
   ]
  },
  {
   "cell_type": "code",
   "execution_count": 2,
   "metadata": {},
   "outputs": [
    {
     "name": "stdout",
     "output_type": "stream",
     "text": [
      "123\n",
      "124\n",
      "132\n",
      "134\n",
      "142\n",
      "143\n",
      "213\n",
      "214\n",
      "231\n",
      "234\n",
      "241\n",
      "243\n",
      "312\n",
      "314\n",
      "321\n",
      "324\n",
      "341\n",
      "342\n",
      "412\n",
      "413\n",
      "421\n",
      "423\n",
      "431\n",
      "432\n"
     ]
    }
   ],
   "source": [
    "for i in range(1,5):\n",
    "    for j in range(1,5):\n",
    "        for k in range(1,5):\n",
    "            if i==j or i==k or j==k:\n",
    "                continue\n",
    "            else:\n",
    "                print(i*100+j*10+k)"
   ]
  },
  {
   "cell_type": "code",
   "execution_count": 9,
   "metadata": {},
   "outputs": [
    {
     "name": "stdout",
     "output_type": "stream",
     "text": [
      "身高（m）体重（kg）为：1.85 90\n",
      "BMI 为: 26.30，体重偏重 \n"
     ]
    }
   ],
   "source": [
    "a,b= map(float,input('身高（m）体重（kg）为：').split())\n",
    "c=b/(a*a)\n",
    "if c<18.5:\n",
    "    print('BMI 为: '+format(c, '0.2f')+'，体重偏轻 ')\n",
    "elif c<24:\n",
    "    print('BMI 为: '+format(c, '0.2f')+'，体重正常 ')\n",
    "else:\n",
    "    print('BMI 为: '+format(c, '0.2f')+'，体重偏重 ')\n"
   ]
  },
  {
   "cell_type": "code",
   "execution_count": 2,
   "metadata": {},
   "outputs": [
    {
     "name": "stdout",
     "output_type": "stream",
     "text": [
      "1.开始游戏; 2.退出\n",
      "1\n",
      "猜一个 1～100 间的整数：\n",
      "56\n",
      "你猜的太大了\n",
      "28\n",
      "你猜的太大了\n",
      "14\n",
      "你猜的太小了\n",
      "26\n",
      "你猜的太大了\n",
      "20\n",
      "你猜的太大了\n",
      "17\n",
      "你猜的太小了\n",
      "18\n",
      "你猜的太小了\n",
      "19\n",
      "你猜对了！\n",
      "共猜了 1 次，平均 8.0 次猜中\n",
      "\n",
      "1.开始游戏; 2.退出\n",
      "1\n",
      "猜一个 1～100 间的整数：\n",
      "1\n",
      "你猜的太小了\n",
      "1\n",
      "你猜的太小了\n",
      "1\n",
      "你猜的太小了\n",
      "1\n",
      "你猜的太小了\n",
      "1\n",
      "你猜的太小了\n",
      "1\n",
      "你猜的太小了\n",
      "1\n",
      "你猜的太小了\n",
      "1\n",
      "你猜的太小了\n",
      "1\n",
      "你猜的太小了\n",
      "本轮你已经超过10次，失败！\n",
      "共猜了 2 次，平均 9.0 次猜中\n",
      "\n",
      "1.开始游戏; 2.退出\n",
      "2\n",
      "游戏结束\n"
     ]
    }
   ],
   "source": [
    "import random\n",
    "\n",
    "total = 0  # 记录游戏轮数\n",
    "times = 0  # 记录猜的总次数\n",
    "# 程序主循环\n",
    "while True:\n",
    "    choice = input(\"1.开始游戏; 2.退出\\n\")  # 选择开始或退出\n",
    "    if str(choice) == '1':\n",
    "        total += 1  # 轮数累加\n",
    "        num = random.randint(1, 100)  # 随机本轮答案\n",
    "        print(\"猜一个 1～100 间的整数：\")\n",
    "        this_time=0\n",
    "        # 新一轮猜数字\n",
    "        while True:\n",
    "            times += 1  # 猜的次数累加\n",
    "            this_time+=1\n",
    "            if this_time>= 10:\n",
    "                    print('本轮你已经超过10次，失败！')\n",
    "                    break\n",
    "            answer = int(input())\n",
    "            if answer < num:\n",
    "                print(\"你猜的太小了\")\n",
    "            elif answer > num:\n",
    "                print(\"你猜的太大了\")\n",
    "            else:\n",
    "                print(\"你猜对了！\")\n",
    "                break  # 猜中后挑出循环\n",
    "    elif str(choice) == '2':\n",
    "        break  # 选择2则跳出循环\n",
    "    if total > 0:  # 防止除0错误\n",
    "        # 输出结果\n",
    "        print(\"共猜了 %d 次，平均 %.1f 次猜中\\n\" % (total, float(times) / total))\n",
    "print(\"游戏结束\")\n",
    "    "
   ]
  },
  {
   "cell_type": "code",
   "execution_count": null,
   "metadata": {},
   "outputs": [],
   "source": []
  }
 ],
 "metadata": {
  "kernelspec": {
   "display_name": "Python 3",
   "language": "python",
   "name": "python3"
  },
  "language_info": {
   "codemirror_mode": {
    "name": "ipython",
    "version": 3
   },
   "file_extension": ".py",
   "mimetype": "text/x-python",
   "name": "python",
   "nbconvert_exporter": "python",
   "pygments_lexer": "ipython3",
   "version": "3.6.1"
  }
 },
 "nbformat": 4,
 "nbformat_minor": 2
}
